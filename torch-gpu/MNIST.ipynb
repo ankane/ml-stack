{
 "cells": [
  {
   "cell_type": "markdown",
   "metadata": {},
   "source": [
    "Use deep learning to predict handwritten digits (ported from [PyTorch Examples](https://github.com/pytorch/examples/blob/master/mnist/main.py), BSD 3-Clause License)"
   ]
  },
  {
   "cell_type": "code",
   "execution_count": null,
   "metadata": {},
   "outputs": [],
   "source": [
    "require \"torch\"\n",
    "require \"torchvision\""
   ]
  },
  {
   "cell_type": "markdown",
   "metadata": {},
   "source": [
    "Check if CUDA is available"
   ]
  },
  {
   "cell_type": "code",
   "execution_count": null,
   "metadata": {},
   "outputs": [],
   "source": [
    "Torch::CUDA.available?"
   ]
  },
  {
   "cell_type": "markdown",
   "metadata": {},
   "source": [
    "Download the MNIST dataset"
   ]
  },
  {
   "cell_type": "code",
   "execution_count": null,
   "metadata": {},
   "outputs": [],
   "source": [
    "root = \"./data\"\n",
    "train_dataset = TorchVision::Datasets::MNIST.new(root,\n",
    "  train: true,\n",
    "  download: true,\n",
    "  transform: TorchVision::Transforms::Compose.new([\n",
    "    TorchVision::Transforms::ToTensor.new,\n",
    "    TorchVision::Transforms::Normalize.new([0.1307], [0.3081]),\n",
    "  ])\n",
    ")\n",
    "test_dataset = TorchVision::Datasets::MNIST.new(root,\n",
    "  train: false,\n",
    "  download: true,\n",
    "  transform: TorchVision::Transforms::Compose.new([\n",
    "    TorchVision::Transforms::ToTensor.new,\n",
    "    TorchVision::Transforms::Normalize.new([0.1307], [0.3081]),\n",
    "  ])\n",
    ")\n",
    "\n",
    "[train_dataset.size, test_dataset.size]"
   ]
  },
  {
   "cell_type": "markdown",
   "metadata": {},
   "source": [
    "View random images from the training set"
   ]
  },
  {
   "cell_type": "code",
   "execution_count": null,
   "metadata": {},
   "outputs": [],
   "source": [
    "3.times do\n",
    "  data, label = train_dataset[rand(train_dataset.size)]\n",
    "  img = ((data * 0.3081) + 0.1307) * 255 # reverse transform\n",
    "  img = Vips::Image.new_from_memory(img.numo.to_binary, img.size(1), img.size(2), img.size(0), :float)\n",
    "  IRuby.display(img)\n",
    "  puts \"Label: #{label}\"\n",
    "end; nil"
   ]
  },
  {
   "cell_type": "markdown",
   "metadata": {},
   "source": [
    "Prepare to load the data in batches"
   ]
  },
  {
   "cell_type": "code",
   "execution_count": null,
   "metadata": {},
   "outputs": [],
   "source": [
    "train_loader = Torch::Utils::Data::DataLoader.new(train_dataset, batch_size: 64, shuffle: true)\n",
    "test_loader = Torch::Utils::Data::DataLoader.new(test_dataset, batch_size: 64, shuffle: true); nil"
   ]
  },
  {
   "cell_type": "markdown",
   "metadata": {},
   "source": [
    "Define a model"
   ]
  },
  {
   "cell_type": "code",
   "execution_count": null,
   "metadata": {},
   "outputs": [],
   "source": [
    "class MyNet < Torch::NN::Module\n",
    "  def initialize\n",
    "    super\n",
    "    @conv1 = Torch::NN::Conv2d.new(1, 32, 3, stride: 1)\n",
    "    @conv2 = Torch::NN::Conv2d.new(32, 64, 3, stride: 1)\n",
    "    @dropout1 = Torch::NN::Dropout2d.new(p: 0.25)\n",
    "    @dropout2 = Torch::NN::Dropout2d.new(p: 0.5)\n",
    "    @fc1 = Torch::NN::Linear.new(9216, 128)\n",
    "    @fc2 = Torch::NN::Linear.new(128, 10)\n",
    "  end\n",
    "\n",
    "  def forward(x)\n",
    "    x = @conv1.call(x)\n",
    "    x = Torch::NN::F.relu(x)\n",
    "    x = @conv2.call(x)\n",
    "    x = Torch::NN::F.relu(x)\n",
    "    x = Torch::NN::F.max_pool2d(x, 2)\n",
    "    x = @dropout1.call(x)\n",
    "    x = Torch.flatten(x, start_dim: 1)\n",
    "    x = @fc1.call(x)\n",
    "    x = Torch::NN::F.relu(x)\n",
    "    x = @dropout2.call(x)\n",
    "    x = @fc2.call(x)\n",
    "    output =Torch::NN::F.log_softmax(x, 1)\n",
    "    output\n",
    "  end\n",
    "end\n",
    "\n",
    "device = Torch.device(Torch::CUDA.available? ? \"cuda\" : \"cpu\")\n",
    "model = MyNet.new.to(device)"
   ]
  },
  {
   "cell_type": "markdown",
   "metadata": {},
   "source": [
    "Define methods to train and evaluate the model"
   ]
  },
  {
   "cell_type": "code",
   "execution_count": null,
   "metadata": {},
   "outputs": [],
   "source": [
    "def train(model, device, train_loader, optimizer, epoch)\n",
    "  model.train\n",
    "  train_loader.each_with_index do |(data, target), batch_idx|\n",
    "    data, target = data.to(device), target.to(device)\n",
    "    optimizer.zero_grad\n",
    "    output = model.call(data)\n",
    "    loss = Torch::NN::F.nll_loss(output, target)\n",
    "    loss.backward\n",
    "    optimizer.step\n",
    "    if batch_idx % 10 == 0\n",
    "      puts \"Train Epoch: %d [%5d/%d (%.0f%%)] Loss: %.6f\" % [\n",
    "        epoch, batch_idx * data.size(0), train_loader.dataset.size,\n",
    "        100.0 * batch_idx / train_loader.size, loss.item\n",
    "      ]\n",
    "    end\n",
    "  end\n",
    "end\n",
    "\n",
    "def test(model, device, test_loader)\n",
    "  model.eval\n",
    "  test_loss = 0\n",
    "  correct = 0\n",
    "  Torch.no_grad do\n",
    "    test_loader.each do |data, target|\n",
    "      data, target = data.to(device), target.to(device)\n",
    "      output = model.call(data)\n",
    "      test_loss += Torch::NN::F.nll_loss(output, target, reduction: \"sum\").item\n",
    "      pred = output.argmax(1, keepdim: true)\n",
    "      correct += pred.eq(target.view_as(pred)).sum.item\n",
    "    end\n",
    "  end\n",
    "\n",
    "  test_loss /= test_loader.dataset.size\n",
    "\n",
    "  puts \"Test set: Average loss: %.4f, Accuracy: %d/%d (%.1f%%)\\n\\n\" % [\n",
    "    test_loss, correct, test_loader.dataset.size,\n",
    "    100.0 * correct / test_loader.dataset.size\n",
    "  ]\n",
    "end"
   ]
  },
  {
   "cell_type": "markdown",
   "metadata": {},
   "source": [
    "Train for 14 passes"
   ]
  },
  {
   "cell_type": "code",
   "execution_count": null,
   "metadata": {},
   "outputs": [],
   "source": [
    "started_at = Time.now\n",
    "\n",
    "optimizer = Torch::Optim::Adadelta.new(model.parameters, lr: 1.0)\n",
    "scheduler = Torch::Optim::LRScheduler::StepLR.new(optimizer, step_size: 1, gamma: 0.7)\n",
    "1.upto(14) do |epoch|\n",
    "  train(model, device, train_loader, optimizer, epoch)\n",
    "  test(model, device, test_loader)\n",
    "  scheduler.step\n",
    "end\n",
    "\n",
    "took = (Time.now - started_at).round(1)\n",
    "puts \"Took #{took} seconds\""
   ]
  },
  {
   "cell_type": "markdown",
   "metadata": {},
   "source": [
    "We can now predict handwritten digits with over 99% accuracy!"
   ]
  }
 ],
 "metadata": {
  "kernelspec": {
   "display_name": "Ruby 3.0.0",
   "language": "ruby",
   "name": "ruby"
  },
  "language_info": {
   "file_extension": ".rb",
   "mimetype": "application/x-ruby",
   "name": "ruby",
   "version": "3.0.0"
  }
 },
 "nbformat": 4,
 "nbformat_minor": 4
}
